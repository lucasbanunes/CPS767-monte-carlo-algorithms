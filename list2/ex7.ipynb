{
 "cells": [
  {
   "cell_type": "code",
   "execution_count": 1,
   "metadata": {},
   "outputs": [
    {
     "data": {
      "text/plain": [
       "array(['a', 'b', 'c', 'd', 'e', 'f', 'g', 'h', 'i', 'j', 'k', 'l', 'm',\n",
       "       'n', 'o', 'p', 'q', 'r', 's', 't', 'u', 'v', 'w', 'x', 'y', 'z'],\n",
       "      dtype='<U1')"
      ]
     },
     "execution_count": 1,
     "metadata": {},
     "output_type": "execute_result"
    }
   ],
   "source": [
    "from typing import Iterable\n",
    "from itertools import product\n",
    "import string\n",
    "import numpy as np\n",
    "import socket\n",
    "import matplotlib.pyplot as plt\n",
    "from joblib import Parallel, delayed\n",
    "\n",
    "ASCII_CHARS = np.array(list(string.ascii_lowercase))\n",
    "ASCII_CHARS"
   ]
  },
  {
   "cell_type": "code",
   "execution_count": 2,
   "metadata": {},
   "outputs": [],
   "source": [
    "def domain_generator(k: int, rng: np.random.Generator = None) -> Iterable[str]:\n",
    "    if rng is None:\n",
    "        rng = np.random.default_rng()\n",
    "    \n",
    "    generator_indexes = np.arange(k)\n",
    "    random_char_generators = []\n",
    "    remaining_domains = np.full(k, 26) ** np.arange(1, k+1)\n",
    "    n_domains = np.sum(remaining_domains)\n",
    "    for i in range(1, k+1):\n",
    "            random_char_generators.append(\n",
    "                product(*(rng.permutation(ASCII_CHARS) for _ in range(i)))\n",
    "            )\n",
    "    for _ in range(1, n_domains + 1):\n",
    "        gen_idx = rng.choice(\n",
    "            generator_indexes,\n",
    "            p=remaining_domains / np.sum(remaining_domains)\n",
    "        )\n",
    "        remaining_domains[gen_idx] -= 1\n",
    "        generator = random_char_generators[gen_idx]\n",
    "        domain_name = next(generator)\n",
    "        yield f'{domain_name}.ufrj.br'\n",
    "\n",
    "\n",
    "def domain_exists(domain: str) -> bool:\n",
    "    \"\"\"\n",
    "    Checks if a domain exists in the DNS.\n",
    "    \"\"\"\n",
    "    try:\n",
    "        # Checks if the domain exists by trying to resolve it\n",
    "        # Raises socket.gaierror if the domain does not exist\n",
    "        socket.getaddrinfo(domain, 0)\n",
    "        return True\n",
    "    except socket.gaierror:\n",
    "        return False\n",
    "\n",
    "def number_of_possible_domains(k: int) -> int:\n",
    "    \"\"\"\n",
    "    Returns the number of possible domains with size <= k.\n",
    "    \"\"\"\n",
    "    return np.sum(np.full(k, 26) ** np.arange(1, k+1))"
   ]
  },
  {
   "cell_type": "code",
   "execution_count": 3,
   "metadata": {},
   "outputs": [],
   "source": [
    "def monte_calo_estimate(k: int, n: int, job_id: int) -> int:\n",
    "    \"\"\"\n",
    "    Estimates the number of domains under the ufrj.br name of size <= k\n",
    "    using Monte Carlo estimation.\n",
    "    \"\"\"\n",
    "    print(f'{job_id} - Running monte carlo estimation for k={k} and n={n:.2E} ...')\n",
    "    generator = domain_generator(k)\n",
    "    n_domains = number_of_possible_domains(k)\n",
    "    if n > n_domains:\n",
    "        raise ValueError(f'n={n} is greater than the number of possible domains={n_domains}')\n",
    "    number_estimate = 0\n",
    "    for i_sample, domain_sample in enumerate(generator):\n",
    "        if i_sample >= n:\n",
    "            break\n",
    "        if domain_exists(domain_sample):\n",
    "            number_estimate += 1\n",
    "    print(f'{job_id} - estimate={number_estimate}')\n",
    "    return number_estimate"
   ]
  },
  {
   "cell_type": "code",
   "execution_count": 4,
   "metadata": {},
   "outputs": [
    {
     "name": "stdout",
     "output_type": "stream",
     "text": [
      "0 - Running monte carlo estimation for k=4 and n=1.00E+01 ...\n",
      "0 - estimate=0\n",
      "1 - Running monte carlo estimation for k=4 and n=2.70E+01 ...\n",
      "1 - estimate=0\n",
      "2 - Running monte carlo estimation for k=4 and n=7.70E+01 ...\n",
      "2 - estimate=0\n",
      "3 - Running monte carlo estimation for k=4 and n=2.15E+02 ...\n",
      "3 - estimate=0\n",
      "6 - Running monte carlo estimation for k=4 and n=4.64E+03 ...5 - Running monte carlo estimation for k=4 and n=1.67E+03 ...\n",
      "\n",
      "4 - Running monte carlo estimation for k=4 and n=5.99E+02 ...\n",
      "7 - Running monte carlo estimation for k=4 and n=1.29E+04 ...\n",
      "8 - Running monte carlo estimation for k=4 and n=3.59E+04 ...\n",
      "9 - Running monte carlo estimation for k=4 and n=1.00E+05 ...\n",
      "4 - estimate=0\n",
      "5 - estimate=0\n",
      "6 - estimate=0\n",
      "7 - estimate=0\n",
      "8 - estimate=0\n",
      "9 - estimate=0\n"
     ]
    }
   ],
   "source": [
    "n_samples = np.logspace(1, 5, num=10, dtype=int)\n",
    "job_pool = Parallel(n_jobs=-1)\n",
    "k = 4\n",
    "estimates = job_pool(\n",
    "    delayed(monte_calo_estimate)(k, n, job_id)\n",
    "    for job_id, n in enumerate(n_samples)\n",
    ")"
   ]
  },
  {
   "cell_type": "code",
   "execution_count": 5,
   "metadata": {},
   "outputs": [
    {
     "data": {
      "image/png": "[encoded data removed]",
      "text/plain": [
       "<Figure size 640x480 with 1 Axes>"
      ]
     },
     "metadata": {},
     "output_type": "display_data"
    }
   ],
   "source": [
    "fig, ax = plt.subplots()\n",
    "ax.grid(linestyle='--', alpha=0.5)\n",
    "ax.plot(n_samples, estimates, label='Estimate')\n",
    "# ax.axhline(np.e, label=f'Real Value: {np.e:.6f}', color='black', linestyle='--',)\n",
    "ax.set_xlabel('Number of Samples')\n",
    "ax.set_title('Estimation of number of domains')\n",
    "# ax.set_ylabel('Integral Estimate')\n",
    "ax.set_ylabel('Estimate')\n",
    "ax.legend()\n",
    "ax.set_xscale('log')"
   ]
  }
 ],
 "metadata": {
  "kernelspec": {
   "display_name": "monte-carlo",
   "language": "python",
   "name": "python3"
  },
  "language_info": {
   "codemirror_mode": {
    "name": "ipython",
    "version": 3
   },
   "file_extension": ".py",
   "mimetype": "text/x-python",
   "name": "python",
   "nbconvert_exporter": "python",
   "pygments_lexer": "ipython3",
   "version": "3.12.9"
  }
 },
 "nbformat": 4,
 "nbformat_minor": 2
}
