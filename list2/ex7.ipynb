{
 "cells": [
  {
   "cell_type": "code",
   "execution_count": 1,
   "metadata": {},
   "outputs": [],
   "source": [
    "import pandas as pd\n",
    "import numpy as np\n",
    "import matplotlib.pyplot as plt\n",
    "from pathlib import Path"
   ]
  },
  {
   "cell_type": "code",
   "execution_count": 2,
   "metadata": {},
   "outputs": [
    {
     "name": "stdout",
     "output_type": "stream",
     "text": [
      "Number of domains: 7\n"
     ]
    },
    {
     "data": {
      "text/html": [
       "<div>\n",
       "<style scoped>\n",
       "    .dataframe tbody tr th:only-of-type {\n",
       "        vertical-align: middle;\n",
       "    }\n",
       "\n",
       "    .dataframe tbody tr th {\n",
       "        vertical-align: top;\n",
       "    }\n",
       "\n",
       "    .dataframe thead th {\n",
       "        text-align: right;\n",
       "    }\n",
       "</style>\n",
       "<table border=\"1\" class=\"dataframe\">\n",
       "  <thead>\n",
       "    <tr style=\"text-align: right;\">\n",
       "      <th></th>\n",
       "      <th>domain</th>\n",
       "      <th>exists</th>\n",
       "      <th>filename</th>\n",
       "    </tr>\n",
       "  </thead>\n",
       "  <tbody>\n",
       "    <tr>\n",
       "      <th>14179</th>\n",
       "      <td>eefd.ufrj.br</td>\n",
       "      <td>1</td>\n",
       "      <td>job_110.csv</td>\n",
       "    </tr>\n",
       "    <tr>\n",
       "      <th>64213</th>\n",
       "      <td>eba.ufrj.br</td>\n",
       "      <td>1</td>\n",
       "      <td>job_4.csv</td>\n",
       "    </tr>\n",
       "    <tr>\n",
       "      <th>68378</th>\n",
       "      <td>idt.ufrj.br</td>\n",
       "      <td>1</td>\n",
       "      <td>job_43.csv</td>\n",
       "    </tr>\n",
       "    <tr>\n",
       "      <th>68751</th>\n",
       "      <td>sga.ufrj.br</td>\n",
       "      <td>1</td>\n",
       "      <td>job_43.csv</td>\n",
       "    </tr>\n",
       "    <tr>\n",
       "      <th>71620</th>\n",
       "      <td>oec.ufrj.br</td>\n",
       "      <td>1</td>\n",
       "      <td>job_46.csv</td>\n",
       "    </tr>\n",
       "    <tr>\n",
       "      <th>97702</th>\n",
       "      <td>ppge.ufrj.br</td>\n",
       "      <td>1</td>\n",
       "      <td>job_7.csv</td>\n",
       "    </tr>\n",
       "    <tr>\n",
       "      <th>117443</th>\n",
       "      <td>injc.ufrj.br</td>\n",
       "      <td>1</td>\n",
       "      <td>job_88.csv</td>\n",
       "    </tr>\n",
       "  </tbody>\n",
       "</table>\n",
       "</div>"
      ],
      "text/plain": [
       "              domain  exists     filename\n",
       "14179   eefd.ufrj.br       1  job_110.csv\n",
       "64213    eba.ufrj.br       1    job_4.csv\n",
       "68378    idt.ufrj.br       1   job_43.csv\n",
       "68751    sga.ufrj.br       1   job_43.csv\n",
       "71620    oec.ufrj.br       1   job_46.csv\n",
       "97702   ppge.ufrj.br       1    job_7.csv\n",
       "117443  injc.ufrj.br       1   job_88.csv"
      ]
     },
     "execution_count": 2,
     "metadata": {},
     "output_type": "execute_result"
    }
   ],
   "source": [
    "output_dir = Path('ex7_output')\n",
    "dfs = []\n",
    "for filename in output_dir.glob('*.csv'):\n",
    "    df = pd.read_csv(str(filename))\n",
    "    df['filename'] = filename.name\n",
    "    dfs.append(df)\n",
    "    # Read the CSV file and append to the list\n",
    "domains = pd.concat(dfs, ignore_index=True)\n",
    "domains.sort_values(by=['filename', 'domain'], inplace=True)\n",
    "domains.reset_index(drop=True, inplace=True)\n",
    "del dfs\n",
    "n_domains = domains['exists'].sum()\n",
    "print(f'Number of domains: {n_domains}')\n",
    "domains[domains['exists']> 0]"
   ]
  },
  {
   "cell_type": "code",
   "execution_count": 3,
   "metadata": {},
   "outputs": [
    {
     "data": {
      "text/html": [
       "<div>\n",
       "<style scoped>\n",
       "    .dataframe tbody tr th:only-of-type {\n",
       "        vertical-align: middle;\n",
       "    }\n",
       "\n",
       "    .dataframe tbody tr th {\n",
       "        vertical-align: top;\n",
       "    }\n",
       "\n",
       "    .dataframe thead th {\n",
       "        text-align: right;\n",
       "    }\n",
       "</style>\n",
       "<table border=\"1\" class=\"dataframe\">\n",
       "  <thead>\n",
       "    <tr style=\"text-align: right;\">\n",
       "      <th></th>\n",
       "      <th>n_samples</th>\n",
       "      <th>n_domains</th>\n",
       "    </tr>\n",
       "  </thead>\n",
       "  <tbody>\n",
       "    <tr>\n",
       "      <th>0</th>\n",
       "      <td>1</td>\n",
       "      <td>0</td>\n",
       "    </tr>\n",
       "    <tr>\n",
       "      <th>1</th>\n",
       "      <td>3</td>\n",
       "      <td>0</td>\n",
       "    </tr>\n",
       "    <tr>\n",
       "      <th>2</th>\n",
       "      <td>12</td>\n",
       "      <td>0</td>\n",
       "    </tr>\n",
       "    <tr>\n",
       "      <th>3</th>\n",
       "      <td>46</td>\n",
       "      <td>0</td>\n",
       "    </tr>\n",
       "    <tr>\n",
       "      <th>4</th>\n",
       "      <td>166</td>\n",
       "      <td>0</td>\n",
       "    </tr>\n",
       "    <tr>\n",
       "      <th>5</th>\n",
       "      <td>599</td>\n",
       "      <td>0</td>\n",
       "    </tr>\n",
       "    <tr>\n",
       "      <th>6</th>\n",
       "      <td>2154</td>\n",
       "      <td>1</td>\n",
       "    </tr>\n",
       "    <tr>\n",
       "      <th>7</th>\n",
       "      <td>7742</td>\n",
       "      <td>0</td>\n",
       "    </tr>\n",
       "    <tr>\n",
       "      <th>8</th>\n",
       "      <td>27825</td>\n",
       "      <td>3</td>\n",
       "    </tr>\n",
       "    <tr>\n",
       "      <th>9</th>\n",
       "      <td>100000</td>\n",
       "      <td>5</td>\n",
       "    </tr>\n",
       "    <tr>\n",
       "      <th>10</th>\n",
       "      <td>130130</td>\n",
       "      <td>7</td>\n",
       "    </tr>\n",
       "  </tbody>\n",
       "</table>\n",
       "</div>"
      ],
      "text/plain": [
       "    n_samples  n_domains\n",
       "0           1          0\n",
       "1           3          0\n",
       "2          12          0\n",
       "3          46          0\n",
       "4         166          0\n",
       "5         599          0\n",
       "6        2154          1\n",
       "7        7742          0\n",
       "8       27825          3\n",
       "9      100000          5\n",
       "10     130130          7"
      ]
     },
     "execution_count": 3,
     "metadata": {},
     "output_type": "execute_result"
    }
   ],
   "source": [
    "results = pd.DataFrame(columns=['n_samples', 'n_domains'])\n",
    "results['n_samples'] = np.concatenate([np.logspace(0, 5, num=10, dtype=int), [len(domains)]])\n",
    "results['n_domains'] = results['n_samples'].apply(\n",
    "    lambda n: np.sum(np.random.choice(domains['exists'], n, replace=False))\n",
    ")\n",
    "results"
   ]
  },
  {
   "cell_type": "code",
   "execution_count": 4,
   "metadata": {},
   "outputs": [
    {
     "data": {
      "image/png": "[encoded data removed]",
      "text/plain": [
       "<Figure size 640x480 with 1 Axes>"
      ]
     },
     "metadata": {},
     "output_type": "display_data"
    }
   ],
   "source": [
    "fig, ax = plt.subplots()\n",
    "ax.grid(linestyle='--', alpha=0.5)\n",
    "ax.plot(results['n_samples'].values, results['n_domains'].values, label='Monte Carlo Estimation')\n",
    "# ax.axhline(n_domains, label=f'Real Value: {n_domains}', color='black', linestyle='--')\n",
    "ax.set_xlabel('Number of Samples')\n",
    "# ax.set_ylabel('Integral Estimate')\n",
    "ax.set_ylabel('Number of domains')\n",
    "ax.set_title('Monte Carlo Estimation of Number of Domains')\n",
    "ax.legend()\n",
    "ax.set_xscale('log')\n",
    "\n",
    "fig.savefig(output_dir / 'ex7_plot.png', dpi=300)"
   ]
  }
 ],
 "metadata": {
  "kernelspec": {
   "display_name": "monte-carlo-cps767",
   "language": "python",
   "name": "python3"
  },
  "language_info": {
   "codemirror_mode": {
    "name": "ipython",
    "version": 3
   },
   "file_extension": ".py",
   "mimetype": "text/x-python",
   "name": "python",
   "nbconvert_exporter": "python",
   "pygments_lexer": "ipython3",
   "version": "3.12.10"
  }
 },
 "nbformat": 4,
 "nbformat_minor": 2
}
